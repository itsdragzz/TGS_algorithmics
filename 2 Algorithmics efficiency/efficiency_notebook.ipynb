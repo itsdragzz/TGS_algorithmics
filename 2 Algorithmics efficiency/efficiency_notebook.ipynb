{
 "cells": [
  {
   "cell_type": "markdown",
   "id": "8728f9f3",
   "metadata": {},
   "source": [
    "# <center>Year 10 Algorithmic thinking </center>\n",
    "# <center>Algorithm efficiency </center>\n"
   ]
  },
  {
   "cell_type": "markdown",
   "id": "381fb88b",
   "metadata": {},
   "source": [
    "## <center>Exercises</center>"
   ]
  },
  {
   "cell_type": "markdown",
   "id": "79ce1065",
   "metadata": {},
   "source": [
    "### 1. Paint the following functions using <a href=\"https://www.desmos.com/calculator?lang=en\">Desmos</a>:\n",
    "\n",
    "<img src=\"graphs.png\" alt=\"drawing\"/>\n"
   ]
  },
  {
   "cell_type": "markdown",
   "id": "fa1676ed",
   "metadata": {},
   "source": [
    "### 2. Put the aforementioned functions in order of \"dominancy\"\n",
    "\n",
    "- $ O(n!) $\n",
    "- $ O(2^n) $\n",
    "- $ O(n^2) $\n",
    "- $ O(n \\ logn) $\n",
    "- $ O(n) $\n",
    "- $ O(log n) $\n",
    "- $ O(1) $\n",
    "\n",
    "\n"
   ]
  },
  {
   "cell_type": "markdown",
   "id": "d13daf7e",
   "metadata": {},
   "source": [
    "### 3. Determine the complexity of the following algorithms:"
   ]
  },
  {
   "cell_type": "code",
   "execution_count": 2,
   "id": "fcd0cced",
   "metadata": {},
   "outputs": [],
   "source": [
    "def algo1(items):\n",
    "    for item in items:\n",
    "        print(item)\n",
    "\n",
    "#algo1([4, 5, 6, 8])"
   ]
  },
  {
   "cell_type": "markdown",
   "id": "78e5d3dd",
   "metadata": {},
   "source": [
    "$ O(n) $"
   ]
  },
  {
   "cell_type": "code",
   "execution_count": 4,
   "id": "5f3cf86a",
   "metadata": {},
   "outputs": [
    {
     "name": "stdout",
     "output_type": "stream",
     "text": [
      "16\n"
     ]
    }
   ],
   "source": [
    "def algo2(items):\n",
    "    result = items[0] * items[0]\n",
    "    print(result)\n",
    "\n",
    "algo2([4, 5, 6, 8])"
   ]
  },
  {
   "cell_type": "markdown",
   "id": "7ed30870",
   "metadata": {},
   "source": [
    "$ O(1) $"
   ]
  },
  {
   "cell_type": "code",
   "execution_count": 5,
   "id": "d52dd052",
   "metadata": {},
   "outputs": [
    {
     "name": "stdout",
     "output_type": "stream",
     "text": [
      "4   4\n",
      "4   5\n",
      "4   6\n",
      "4   8\n",
      "5   4\n",
      "5   5\n",
      "5   6\n",
      "5   8\n",
      "6   4\n",
      "6   5\n",
      "6   6\n",
      "6   8\n",
      "8   4\n",
      "8   5\n",
      "8   6\n",
      "8   8\n"
     ]
    }
   ],
   "source": [
    "def algo3(items):\n",
    "    for item in items:\n",
    "        for item2 in items:\n",
    "            print(item, ' ' ,item2)\n",
    "\n",
    "algo3([4, 5, 6, 8])"
   ]
  },
  {
   "cell_type": "markdown",
   "id": "bd9d29a4",
   "metadata": {},
   "source": [
    "$ O(n^2) $"
   ]
  },
  {
   "cell_type": "code",
   "execution_count": 6,
   "id": "eddbafd4",
   "metadata": {},
   "outputs": [
    {
     "name": "stdout",
     "output_type": "stream",
     "text": [
      "4\n",
      "5\n",
      "6\n",
      "8\n",
      "4\n",
      "5\n",
      "6\n",
      "8\n"
     ]
    }
   ],
   "source": [
    "def algo4(items):\n",
    "    for item in items:\n",
    "        print(item)\n",
    "\n",
    "    for item in items:\n",
    "        print(item)\n",
    "algo4([4, 5, 6, 8])"
   ]
  },
  {
   "cell_type": "markdown",
   "id": "4e6cd982",
   "metadata": {},
   "source": [
    "$ O(n) $"
   ]
  },
  {
   "cell_type": "code",
   "execution_count": 7,
   "id": "afc8fde9",
   "metadata": {},
   "outputs": [
    {
     "name": "stdout",
     "output_type": "stream",
     "text": [
      "Python is awesome\n",
      "Python is awesome\n",
      "Python is awesome\n",
      "Python is awesome\n",
      "Python is awesome\n",
      "4\n",
      "5\n",
      "6\n",
      "8\n",
      "4\n",
      "5\n",
      "6\n",
      "8\n",
      "Big O\n",
      "Big O\n",
      "Big O\n"
     ]
    }
   ],
   "source": [
    "def algo5(items):\n",
    "\n",
    "    for i in range(5):\n",
    "        print(\"Python is awesome\")\n",
    "\n",
    "    for item in items:\n",
    "        print(item)\n",
    "\n",
    "    for item in items:\n",
    "        print(item)\n",
    "\n",
    "    print(\"Big O\")\n",
    "    print(\"Big O\")\n",
    "    print(\"Big O\")\n",
    "\n",
    "algo5([4, 5, 6, 8])"
   ]
  },
  {
   "cell_type": "markdown",
   "id": "e4f83b5d",
   "metadata": {},
   "source": [
    "$ O(n) $"
   ]
  },
  {
   "cell_type": "code",
   "execution_count": 8,
   "id": "cc95642e",
   "metadata": {},
   "outputs": [
    {
     "name": "stdout",
     "output_type": "stream",
     "text": [
      "True\n"
     ]
    }
   ],
   "source": [
    "def algo6(num, items):\n",
    "    for item in items:\n",
    "        if item == num:\n",
    "            return True\n",
    "        else:\n",
    "            pass\n",
    "nums = [2, 4, 6, 8, 10]\n",
    "\n",
    "print(algo6(2, nums))"
   ]
  },
  {
   "cell_type": "markdown",
   "id": "08587382",
   "metadata": {},
   "source": [
    "$ O(n) $"
   ]
  },
  {
   "cell_type": "markdown",
   "id": "35e85949",
   "metadata": {},
   "source": [
    "### 4. Can you find a way to graphically check your answers?"
   ]
  },
  {
   "cell_type": "code",
   "execution_count": 9,
   "id": "0a303879",
   "metadata": {},
   "outputs": [],
   "source": [
    "import matplotlib.pyplot as plt\n",
    "import numpy as np\n",
    "import time\n",
    "\n",
    "\n",
    "def run_algo1(run):\n",
    "\n",
    "\n",
    "    algo_list = [algo1, algo2, algo3, algo4, algo5]\n",
    "    \n",
    "\n",
    "    loop = 0\n",
    "\n",
    "\n",
    "    arr_size = 1\n",
    "    num_run = arr_size\n",
    "    \n",
    "    time_arr_y = [0]\n",
    "    arr_size_x = [0]\n",
    "    \n",
    "    while loop <= run: #loops until the value reaches 'run'\n",
    "\n",
    "        arr = np.ones(arr_size) #defines arr as a list of an array of 1's\n",
    "\n",
    "\n",
    "        startt = time.time() #stats time\n",
    "        algo1(arr)\n",
    "        endt = time.time() #ends times \n",
    "        \n",
    "\n",
    "        arr_size_x.append(arr_size)\n",
    "        arr_size += 1 #increases the arr size by one\n",
    "\n",
    "        elapsed_time = endt - startt #gets the elapsed time\n",
    "        final_res = elapsed_time * 1000\n",
    "        time_arr_y.append(final_res) #appends the array of x into elasped_time\n",
    "\n",
    "        loop = loop + 1\n",
    "\n",
    "\n",
    "    plt.plot(arr_size_x, time_arr_y, color='blue', linewidth = 1, marker ='o', markersize = 1) #shows the size of the plot\n",
    "    plt.ylabel('time in ms(y)') #label y side\n",
    "    plt.xlabel('number of inputs (x)') #label x side\n",
    "    plt.title('Algo1') #title of graph\n",
    "    plt.show() #shows the graph\n",
    "    \n",
    "\n",
    "run_algo1(100)"
   ]
  },
  {
   "cell_type": "markdown",
   "id": "2a219c6f",
   "metadata": {},
   "source": [
    "### 5. Use a flowchart and pseudocode to design an algorithm that given an integer num, computes the Nth Fibonacci number"
   ]
  },
  {
   "cell_type": "markdown",
   "id": "96271b38",
   "metadata": {},
   "source": [
    "(your solution goes here)"
   ]
  },
  {
   "cell_type": "markdown",
   "id": "5f8b8ab1",
   "metadata": {},
   "source": [
    "### 6. Use your pseudocode to analyze the complexity of your algorithm"
   ]
  },
  {
   "cell_type": "markdown",
   "id": "8f0a0302",
   "metadata": {},
   "source": [
    "(your solution goes here)"
   ]
  },
  {
   "cell_type": "markdown",
   "id": "edba8141",
   "metadata": {},
   "source": [
    "### 7. Implement the algorithm and graphically check its complexity"
   ]
  },
  {
   "cell_type": "code",
   "execution_count": 10,
   "id": "9bf1a7ee",
   "metadata": {},
   "outputs": [],
   "source": [
    "# (your solution goes here)"
   ]
  }
 ],
 "metadata": {
  "kernelspec": {
   "display_name": "Python 3.10.7 64-bit (microsoft store)",
   "language": "python",
   "name": "python3"
  },
  "language_info": {
   "codemirror_mode": {
    "name": "ipython",
    "version": 3
   },
   "file_extension": ".py",
   "mimetype": "text/x-python",
   "name": "python",
   "nbconvert_exporter": "python",
   "pygments_lexer": "ipython3",
   "version": "3.10.7"
  },
  "vscode": {
   "interpreter": {
    "hash": "1d701fb17739e70177366041f6282dd32314bc22b136f70cd2920572808ac722"
   }
  }
 },
 "nbformat": 4,
 "nbformat_minor": 5
}
