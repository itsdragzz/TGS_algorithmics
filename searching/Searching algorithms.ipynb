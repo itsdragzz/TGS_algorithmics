{
 "cells": [
  {
   "cell_type": "markdown",
   "id": "16cd4009",
   "metadata": {},
   "source": [
    "<center><img src=\"CSV028_Trinity-Grammar-School.jpg\" width=\"200\"/></center>\n"
   ]
  },
  {
   "cell_type": "markdown",
   "id": "365f974e",
   "metadata": {},
   "source": [
    "# <center>Year 10 Algorithmic thinking </center>\n",
    "# <center>SEARCH ALGORITHMS </center>"
   ]
  },
  {
   "cell_type": "markdown",
   "id": "ea660634",
   "metadata": {},
   "source": [
    "In the data below, find the number 13:"
   ]
  },
  {
   "cell_type": "markdown",
   "id": "573375fc",
   "metadata": {},
   "source": [
    "<center><img src=\"unsorted_list.jpg\" width=\"400\"/></center>"
   ]
  },
  {
   "cell_type": "markdown",
   "id": "4e8e34f7",
   "metadata": {},
   "source": [
    "Describe the process that you used:"
   ]
  },
  {
   "cell_type": "markdown",
   "id": "9b7b081a",
   "metadata": {},
   "source": [
    "```I used liner search, I started the top left then worked towards my right then went to the 2nd row and went towards my right again, so on and so on. For example, I started at 12, then 14, 18, 16,..., 10 then 47, 18... ect.```"
   ]
  },
  {
   "cell_type": "markdown",
   "id": "7e10cf2c",
   "metadata": {},
   "source": [
    "<center><img src=\"sorted_list.jpg\" width=\"400\"/></center>"
   ]
  },
  {
   "cell_type": "markdown",
   "id": "85ab2854",
   "metadata": {},
   "source": [
    "Describe the process that you used:"
   ]
  },
  {
   "cell_type": "markdown",
   "id": "d2cd4040",
   "metadata": {},
   "source": [
    "```I used the same method as the 1st problem, started from top left then went to my right. For example, I started at 1, then 2, 4,..., 10, then 11, 12... ect.```"
   ]
  },
  {
   "cell_type": "markdown",
   "id": "8fdc8d4c",
   "metadata": {},
   "source": [
    "Chances are, in the first set of data  you used something called a **sequential search** (also known as a **linear search**) where you started at the beginning and scanned each number looking for the number 13 and you stopped once you found it. \n"
   ]
  },
  {
   "cell_type": "markdown",
   "id": "e7519021",
   "metadata": {},
   "source": [
    "<center><img src=\"linear_search_c.gif\" width=\"400\"/></center>"
   ]
  },
  {
   "cell_type": "markdown",
   "id": "8fc7ac3d",
   "metadata": {},
   "source": [
    "What is the complexity of this algorithm? (Use Big-O notation)"
   ]
  },
  {
   "cell_type": "markdown",
   "id": "dc1e758c",
   "metadata": {},
   "source": [
    "```O(n)```"
   ]
  },
  {
   "cell_type": "markdown",
   "id": "79bed7a3",
   "metadata": {},
   "source": [
    "When the data was sorted in the second set you possibly had a different approach.\n",
    "\n",
    "For example:\n"
   ]
  },
  {
   "cell_type": "markdown",
   "id": "4b7f4e1e",
   "metadata": {},
   "source": [
    "<center><img src=\"jump_search_c.gif\" width=\"400\"/></center>"
   ]
  },
  {
   "cell_type": "markdown",
   "id": "f74ef754",
   "metadata": {},
   "source": [
    "This particular algorithm is called **Jump Search**\n",
    "\n",
    "How it works:\n",
    "- Define the value of k, the number of jump\n",
    "- Jump the array k-by-k searching by the condition: Array[i] < valueWanted < Array[i+k]\n",
    "- Do a linear search between Array[i] and Array[i + k]\n"
   ]
  },
  {
   "cell_type": "markdown",
   "id": "d56db04a",
   "metadata": {},
   "source": [
    "What is the optimal search block size for this algorithm?"
   ]
  },
  {
   "cell_type": "markdown",
   "id": "16af3add",
   "metadata": {},
   "source": [
    " `Optimal value of k is `$\\sqrt{m}$ ` where m is the size of the array `"
   ]
  },
  {
   "cell_type": "markdown",
   "id": "a2857036",
   "metadata": {},
   "source": [
    "What would the efficiency worst case scenario be for this algorithm?"
   ]
  },
  {
   "cell_type": "markdown",
   "id": "543743ba",
   "metadata": {},
   "source": [
    "$ O(\\sqrt{n}) $"
   ]
  },
  {
   "cell_type": "markdown",
   "id": "b2db0795",
   "metadata": {},
   "source": [
    "Implement a Jump Search algorithm:"
   ]
  },
  {
   "cell_type": "code",
   "execution_count": 2,
   "id": "54b07a9b",
   "metadata": {},
   "outputs": [],
   "source": [
    "import math\n",
    "def jumpSearch( arr , x , n ):\n",
    "    step = math.sqrt(n)\n",
    "    prev = 0\n",
    "    while arr[int(min(step, n)-1)] < x:\n",
    "        prev = step\n",
    "        step += math.sqrt(n)\n",
    "        if prev >= n:\n",
    "            return -1\n",
    "    while arr[int(prev)] < x:\n",
    "        prev += 1\n",
    "        if prev == min(step, n):\n",
    "            return -1\n",
    "    if arr[int(prev)] == x:\n",
    "        return prev\n",
    "    return -1\n"
   ]
  },
  {
   "cell_type": "markdown",
   "id": "b9e67f38",
   "metadata": {},
   "source": [
    "Describe the algorithm you would use to quickly find page 381 in a book of 1000 pages."
   ]
  },
  {
   "cell_type": "markdown",
   "id": "83a67fab",
   "metadata": {},
   "source": [
    "```Binary search```\n"
   ]
  },
  {
   "cell_type": "markdown",
   "id": "298bf4d2",
   "metadata": {},
   "source": [
    "The sniffer dog at the airport stops beside a trolley piled high with 60 suitcases. One of the suitcases contains contraband peanuts. The dog can tell whether peanuts are hidden in any one of the group of suitcases, but it gets tired if it has to do too much sniffing.\n",
    "\n",
    "What is the smallest number of groups of suitcases it must sniff in order to isolate the suitcase with the peanuts? \n"
   ]
  },
  {
   "cell_type": "markdown",
   "id": "a0c4d9b5",
   "metadata": {},
   "source": [
    "`6`"
   ]
  },
  {
   "cell_type": "markdown",
   "id": "41e4c153",
   "metadata": {},
   "source": [
    "Another common search algorithm that can be performed on sorted data is a **binary search**. The process for a binary search is as follows:\n",
    "\n",
    "1. Locate the middle item of the list and compare to the target value (for an even number of data values use the value directly before the middle). If it is target value, return found.\n",
    "2. If more than target value discard middle value and above otherwise discard middle value and below\n",
    "3. Repeat steps 1 and 2 on remaining list \n",
    "4. When list is size 1 and not the target value, return not found\n"
   ]
  },
  {
   "cell_type": "markdown",
   "id": "5c2408fc",
   "metadata": {},
   "source": [
    "Show how the binary search algorithm searches for the number 11 in the following list:\n",
    "<center>1     5     7     11     19     21     25     26     30     33</center>\n"
   ]
  },
  {
   "cell_type": "markdown",
   "id": "cc11fcb0",
   "metadata": {},
   "source": [
    "```\n",
    "1. As there is 10 items on the list, the algorithem would first split between 19 and 21.\n",
    "2. Then the algorithem would know that 11 is between 1 and 19 so it splits the first half again\n",
    "3. The algorithem then splits again 1, 5, 7 and 7, 11, 19\n",
    "4. 11 is between 7 and 19\n",
    "5. It then finds 11 as there is only 3 terms\n",
    "```"
   ]
  },
  {
   "cell_type": "markdown",
   "id": "2f084c61",
   "metadata": {},
   "source": [
    "What are the main differences between the sequential search and the binary search?"
   ]
  },
  {
   "cell_type": "markdown",
   "id": "cb150b20",
   "metadata": {},
   "source": [
    "```Binary search requires a random list where as sequenital serach not does require a random list```"
   ]
  },
  {
   "cell_type": "markdown",
   "id": "2483543d",
   "metadata": {},
   "source": [
    "When might you choose one over the other?"
   ]
  },
  {
   "cell_type": "markdown",
   "id": "8d0c43c9",
   "metadata": {},
   "source": [
    "` If the data is ordered or not`"
   ]
  },
  {
   "cell_type": "code",
   "execution_count": null,
   "id": "71ae8832",
   "metadata": {},
   "outputs": [],
   "source": []
  }
 ],
 "metadata": {
  "kernelspec": {
   "display_name": "Python 3.10.6 64-bit (microsoft store)",
   "language": "python",
   "name": "python3"
  },
  "language_info": {
   "codemirror_mode": {
    "name": "ipython",
    "version": 3
   },
   "file_extension": ".py",
   "mimetype": "text/x-python",
   "name": "python",
   "nbconvert_exporter": "python",
   "pygments_lexer": "ipython3",
   "version": "3.10.6"
  },
  "vscode": {
   "interpreter": {
    "hash": "1ad277e55b8442cc10ee47c7c744455f50f1aab3877f368748348c8326be9e50"
   }
  }
 },
 "nbformat": 4,
 "nbformat_minor": 5
}
