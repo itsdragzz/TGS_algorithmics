{
 "cells": [
  {
   "cell_type": "markdown",
   "id": "1585cbd2",
   "metadata": {
    "tags": [
     "hide"
    ]
   },
   "source": [
    "\n",
    "<center><img src=\"C:\\\\Users\\\\fuentesl\\\\OneDrive - TGS Kew\\\\trinity\\\\Algroithmic thinking\\\\6. Final challenge\\\\CSV028_Trinity-Grammar-School.jpg\" width=\"200\"/></center>"
   ]
  },
  {
   "cell_type": "markdown",
   "id": "692f3f2f",
   "metadata": {},
   "source": [
    "# <center>Year 10 Algorithmic thinking </center>\n",
    "# <center>The Happy Camping Challenge</center>\n",
    "\n",
    "<center><img src=\"C:\\\\Users\\\\fuentesl\\\\OneDrive - TGS Kew\\\\trinity\\\\Algroithmic thinking\\\\6. Final challenge\\\\camping.png\" width=\"250\"/></center>\n"
   ]
  },
  {
   "cell_type": "markdown",
   "id": "b0bc8c7c",
   "metadata": {},
   "source": [
    "At Trinity, we are organizing a one week camping excursion for year 10 students. The camping site has tents with capacity for 5 persons, so it is time to decide who is going to share a tent with who. Previous years, when deciding who was going to share a tent with who we had some students feeling left out. To prevent conflicts between students, this year we decided to hand in a form to each student where they had to rate from 1 to 10 how happy they would be sharing a tent with each of their class mates.  \n",
    "\n",
    "Now we have all the students preferences and we want the students as happy as possible with their tentmates. However, it is way too much information, the teachers are going crazy trying to make the perfect matches, so they decided to delegate the problem to the students of algorithmic thinking. \n",
    "\n",
    "You have to design an algorithm that generates groups of 5 people among the students. This algorithm should:\n",
    "* Assign every student to a tent\n",
    "* Not put a student in more than one tent \n",
    "* Maximize the happiness of the students with their tentmates\n",
    "* Be as efficient as possible\n",
    "\n",
    "To solve the problem, you will be given a csv file with a table similar to the following:\n",
    "\n",
    "| **Students**          | Jonathan Spence | Shannon Rasmussen | Nicholas Shaw | Michael Lyons |\n",
    "|-----------------------|-----------------|-------------------|---------------|---------------|\n",
    "| **Jonathan Spence**   |        0        |         5         |       8       |       10      |\n",
    "| **Shannon Rasmussen** |        8        |         0         |       6       |       2       |\n",
    "| **Nicholas Shaw**     |        10       |         6         |       0       |       7       |\n",
    "| **Michael Lyons**     |        10       |         6         |       9       |       0       |\n",
    "\n",
    "Wehre, in the first row and the first column you have the name of all the students participating in the camping. On each row you have the information about the rating a specific student has given to its classmates. Thus, for example Jonathan Spence and Michael Lyons both have rated each other with a 10 and thus would be ideal for them to be in the same tent.\n",
    "\n",
    "To evaluate your algorithm, there is a **Happyness Score (HS)** that can take values from 0 to 10, based on the average happyness in each tent. This score will be 10 if all the students in every tent have rated their tentmates with a 10. Your goal is to have the highest possible HS. The HS will be 0 if there is at least one student that has not been assigned to any tent, if at least one student that has been assigned to more than one tent or if the algorithm takes more than 1 minute to run. \n",
    "\n",
    "Your algorithm will also be evaluated on its efficiency with an **Efficiency Score (ES)**, based on the time it takes your algorithm to run, where the maximum running time is 60 seconds, which would receive an ES=0. \n",
    "\n",
    "Your **Final Score (FS)** will be the weighted mean between the HS and ES:\n",
    "\n",
    "$$\n",
    "FS = 0.7·HS + 0.3·ES\n",
    "$$\n",
    "\n",
    "\n",
    "To submit a solution you will have to create a file named \"happy_camping_challenge.py\" which contains a function with the following structure:"
   ]
  },
  {
   "cell_type": "code",
   "execution_count": 2,
   "id": "d7569264",
   "metadata": {},
   "outputs": [],
   "source": [
    "def create_groups(file):\n",
    "    '''\n",
    "    Inputs:\n",
    "    file: name of the csv\n",
    "    Outputs: a list of lists, where each sublist contains the name of the five students which are going to share a tent\n",
    "    '''"
   ]
  },
  {
   "cell_type": "markdown",
   "id": "7ff929ed",
   "metadata": {},
   "source": [
    "Here is an example of a valid ouput with 10 students:"
   ]
  },
  {
   "cell_type": "code",
   "execution_count": 3,
   "id": "ae01f861",
   "metadata": {},
   "outputs": [
    {
     "data": {
      "text/plain": [
       "[['Jonathan Spence',\n",
       "  'Shannon Rasmussen',\n",
       "  'Nicholas Shaw',\n",
       "  'Michael Lyons',\n",
       "  'Michael Stout'],\n",
       " ['Christopher Owens',\n",
       "  'Nathan Rush',\n",
       "  'Jason Smith',\n",
       "  'Robert Hammond',\n",
       "  'John Reyes']]"
      ]
     },
     "execution_count": 3,
     "metadata": {},
     "output_type": "execute_result"
    }
   ],
   "source": [
    "example_out = [['Jonathan Spence', 'Shannon Rasmussen', 'Nicholas Shaw', 'Michael Lyons', 'Michael Stout'], \n",
    "               ['Christopher Owens', 'Nathan Rush', 'Jason Smith', 'Robert Hammond', 'John Reyes']]\n",
    "example_out"
   ]
  },
  {
   "cell_type": "markdown",
   "id": "568bebe5",
   "metadata": {},
   "source": [
    "You will have a maximum of one submission per day. (Update with information about how to make a submission and submission deadline)"
   ]
  },
  {
   "cell_type": "markdown",
   "id": "064ba470",
   "metadata": {},
   "source": [
    "Aditionally, you will have to create a report in Jupyter Notebook format which should include the following:\n",
    "* Title and description of the project\n",
    "* Diagrams and mathematical working for any formulas\n",
    "* Key explanations\n",
    "* Flow charts, pseudocode to support your programs\n",
    "* Programming code \n",
    "* Algorithm efficiency analysis\n",
    "* Program output and conclusions"
   ]
  },
  {
   "cell_type": "markdown",
   "id": "ae1712a7",
   "metadata": {},
   "source": [
    "## Extension\n",
    "\n",
    "Generalize your code to work with tents on any capacity. You should add a second input parameter to your function: "
   ]
  },
  {
   "cell_type": "code",
   "execution_count": null,
   "id": "aedef270",
   "metadata": {},
   "outputs": [],
   "source": [
    "def create_groups(file, tent_size):\n",
    "    '''\n",
    "    Inputs:\n",
    "    file: name of the csv\n",
    "    tent_size: integer with the size of the tents\n",
    "    Outputs: a list of lists, where each sublist contains the name of the five students which are going to share a tent\n",
    "    '''"
   ]
  }
 ],
 "metadata": {
  "kernelspec": {
   "display_name": "Python 3 (ipykernel)",
   "language": "python",
   "name": "python3"
  },
  "language_info": {
   "codemirror_mode": {
    "name": "ipython",
    "version": 3
   },
   "file_extension": ".py",
   "mimetype": "text/x-python",
   "name": "python",
   "nbconvert_exporter": "python",
   "pygments_lexer": "ipython3",
   "version": "3.10.4"
  }
 },
 "nbformat": 4,
 "nbformat_minor": 5
}
