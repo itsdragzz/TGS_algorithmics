{
 "cells": [
  {
   "cell_type": "markdown",
   "id": "1585cbd2",
   "metadata": {
    "tags": [
     "hide"
    ]
   },
   "source": [
    "\n",
    "<center><img src=\"CSV028_Trinity-Grammar-School.jpg\" width=\"200\"/></center>"
   ]
  },
  {
   "cell_type": "markdown",
   "id": "692f3f2f",
   "metadata": {},
   "source": [
    "# <center>Year 10 Algorithmic thinking </center>\n",
    "## <center>The Happy Camping Challenge</center>\n",
    "### <center>By Kelvin</center>\n",
    "\n"
   ]
  },
  {
   "cell_type": "markdown",
   "id": "b0bc8c7c",
   "metadata": {},
   "source": [
    "#### The question goes as follow:\n",
    "At Trinity, we are organizing a one week camping excursion for year 10 students. The camping site has tents with capacity for 5 persons, so it is time to decide who is going to share a tent with who. Previous years, when deciding who was going to share a tent with who we had some students feeling left out. To prevent conflicts between students, this year we decided to hand in a form to each student where they had to rate from 1 to 10 how happy they would be sharing a tent with each of their class mates.  \n",
    "\n",
    "Now we have all the students preferences and we want the students as happy as possible with their tentmates. However, it is way too much information, the teachers are going crazy trying to make the perfect matches, so they decided to delegate the problem to the students of algorithmic thinking. \n",
    "\n",
    "You have to design an algorithm that generates groups of 5 people among the students. This algorithm should:\n",
    "* Assign every student to a tent\n",
    "* Not put a student in more than one tent \n",
    "* Maximize the happiness of the students with their tentmates\n",
    "* Be as efficient as possible\n",
    "\n",
    "To solve the problem, you will be given a csv file with a table similar to the following:\n",
    "\n",
    "| **Students**          | Jonathan Spence | Shannon Rasmussen | Nicholas Shaw | Michael Lyons |\n",
    "|-----------------------|-----------------|-------------------|---------------|---------------|\n",
    "| **Jonathan Spence**   |        0        |         5         |       8       |       10      |\n",
    "| **Shannon Rasmussen** |        8        |         0         |       6       |       2       |\n",
    "| **Nicholas Shaw**     |        10       |         6         |       0       |       7       |\n",
    "| **Michael Lyons**     |        10       |         6         |       9       |       0       |\n",
    "\n",
    "Wehre, in the first row and the first column you have the name of all the students participating in the camping. On each row you have the information about the rating a specific student has given to its classmates. Thus, for example Jonathan Spence and Michael Lyons both have rated each other with a 10 and thus would be ideal for them to be in the same tent.\n"
   ]
  },
  {
   "cell_type": "markdown",
   "id": "f5adc719",
   "metadata": {},
   "source": [
    "#### My solution:\n",
    "\n",
    "My solution is based on ranking people from the highest to the lowest score. Then, I start with the highest score and try to find the best match for him. If I find a match, I remove the two people from the list and continue with the next person. If I don't find a match, I remove the person from the list and continue with the next person. I do this until I have no more people in the list.\n",
    "\n",
    "The algorithm is efficient because it only goes through the list once and it only removes people from the list when it finds a match or when it can't find a match. \n",
    "\n",
    "After putting all the people up to score 5, it randomise the rest of the list because there is no point putting them in the list because they are all low ranks and it would be a waste of time to try to find a match for them.\n",
    "\n",
    "My flow chart of the code is below:\n",
    "\n",
    "<img src=\"flowchart.png\" width='1000'>\n",
    "\n",
    "Due to the limited time duration of this assignment, there was not enough time to think of a way to make the algorithm more efficient. However, I believe that there is a way to make it more efficient by using a different data structure. Prehaps a dictionary would be more efficient than a list. Indeed, it might be possible to use a dictionary to store the people and their scores. Then, it would be possible to use the score as the key and the people as the value. This would make it easier to find the best match for a person. But this could reveal a more complex solution. \n",
    "\n",
    "My first initial suggestion would be using pearson correlation in a 3d space. Where the x and y axis is the name of the list and the z axis is the average rating of the 2 people. Then using pearosn corrlation to find the best match. However, this would be a very complex solution and would require a lot of time to implement. Conceivably, the program would be less effcient, as there is a lot of data.\n",
    "\n",
    "Another suggesting would be the idea of nodes. Where the nodes are the people and the edges are the rating. Then, it would be possible to use a graph to find the best match. However, this would be a very complex solution and would require a lot of time to implement. Ultimately, the program would be less effcient, as there is a lot of data.\n",
    "\n",
    "In this idea, I radomised the list of people. This is because the people with a low score are not going to be happy with anyone. So, it is a waste of time to try to find a match for them.\n",
    "\n",
    "My code is shown below:"
   ]
  },
  {
   "cell_type": "code",
   "execution_count": 1,
   "id": "d7569264",
   "metadata": {},
   "outputs": [],
   "source": [
    "def create_groups(file):\n",
    "    '''\n",
    "    Inputs:\n",
    "    file: name of the csv\n",
    "    Outputs: a list of lists, where each sublist contains the name of the five students which are going to share a tent\n",
    "    '''"
   ]
  },
  {
   "cell_type": "markdown",
   "id": "7ff929ed",
   "metadata": {},
   "source": [
    "Here is an example of a valid ouput with 10 students:"
   ]
  },
  {
   "cell_type": "code",
   "execution_count": 2,
   "id": "ae01f861",
   "metadata": {},
   "outputs": [
    {
     "data": {
      "text/plain": [
       "[['Jonathan Spence',\n",
       "  'Shannon Rasmussen',\n",
       "  'Nicholas Shaw',\n",
       "  'Michael Lyons',\n",
       "  'Michael Stout'],\n",
       " ['Christopher Owens',\n",
       "  'Nathan Rush',\n",
       "  'Jason Smith',\n",
       "  'Robert Hammond',\n",
       "  'John Reyes']]"
      ]
     },
     "execution_count": 2,
     "metadata": {},
     "output_type": "execute_result"
    }
   ],
   "source": [
    "example_out = [['Jonathan Spence', 'Shannon Rasmussen', 'Nicholas Shaw', 'Michael Lyons', 'Michael Stout'], \n",
    "               ['Christopher Owens', 'Nathan Rush', 'Jason Smith', 'Robert Hammond', 'John Reyes']]\n",
    "example_out"
   ]
  },
  {
   "cell_type": "markdown",
   "id": "568bebe5",
   "metadata": {},
   "source": [
    "You will have a maximum of one submission per day. (Update with information about how to make a submission and submission deadline)"
   ]
  },
  {
   "cell_type": "markdown",
   "id": "064ba470",
   "metadata": {},
   "source": [
    "Aditionally, you will have to create a report in Jupyter Notebook format which should include the following:\n",
    "* Title and description of the project\n",
    "* Diagrams and mathematical working for any formulas\n",
    "* Key explanations\n",
    "* Flow charts, pseudocode to support your programs\n",
    "* Programming code \n",
    "* Algorithm efficiency analysis\n",
    "* Program output and conclusions"
   ]
  },
  {
   "cell_type": "code",
   "execution_count": null,
   "id": "999cc564",
   "metadata": {},
   "outputs": [],
   "source": []
  },
  {
   "cell_type": "markdown",
   "id": "ae1712a7",
   "metadata": {},
   "source": [
    "## Extension\n",
    "\n",
    "Generalize your code to work with tents on any capacity. You should add a second input parameter to your function: "
   ]
  },
  {
   "cell_type": "code",
   "execution_count": 3,
   "id": "aedef270",
   "metadata": {},
   "outputs": [],
   "source": [
    "def create_groups(file, tent_size):\n",
    "    '''\n",
    "    Inputs:\n",
    "    file: name of the csv\n",
    "    tent_size: integer with the size of the tents\n",
    "    Outputs: a list of lists, where each sublist contains the name of the five students which are going to share a tent\n",
    "    '''"
   ]
  }
 ],
 "metadata": {
  "kernelspec": {
   "display_name": "Python 3.10.x 64-bit (microsoft store)",
   "language": "python",
   "name": "python3"
  },
  "language_info": {
   "codemirror_mode": {
    "name": "ipython",
    "version": 3
   },
   "file_extension": ".py",
   "mimetype": "text/x-python",
   "name": "python",
   "nbconvert_exporter": "python",
   "pygments_lexer": "ipython3",
   "version": "3.10.8"
  },
  "vscode": {
   "interpreter": {
    "hash": "1d701fb17739e70177366041f6282dd32314bc22b136f70cd2920572808ac722"
   }
  }
 },
 "nbformat": 4,
 "nbformat_minor": 5
}
